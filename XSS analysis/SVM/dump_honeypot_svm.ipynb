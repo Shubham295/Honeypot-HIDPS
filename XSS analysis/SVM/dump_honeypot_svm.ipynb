{
 "cells": [
  {
   "cell_type": "code",
   "execution_count": 2,
   "metadata": {},
   "outputs": [
    {
     "name": "stdout",
     "output_type": "stream",
     "text": [
      "(9376,)\n"
     ]
    }
   ],
   "source": [
    "import numpy as np\n",
    "import pandas as pd\n",
    "import re\n",
    "from sklearn.svm import SVC\n",
    "from sklearn.model_selection import train_test_split\n",
    "from sklearn.feature_extraction.text import CountVectorizer\n",
    "from sklearn.metrics import accuracy_score\n",
    "from joblib import dump, load\n",
    "\n",
    "def generate_token_sent(s):\n",
    "    try:\n",
    "        s = s.lower()\n",
    "    except:\n",
    "        pass\n",
    "    s = re.sub(r'[^a-zA-Z0-9\\s]', ' ', s)\n",
    "    tokens = [token for token in s.split(\" \") if token != \"\"]\n",
    "    sent = \"\"\n",
    "    for i in range(len(tokens)):\n",
    "        if i == 0:\n",
    "            sent = sent + tokens[0]\n",
    "        else:\n",
    "            sent = sent + \" \" + tokens[i]\n",
    "    return sent\n",
    "    \n",
    "\n",
    "def generate_token_sent_col(arr):\n",
    "    new_arr = []\n",
    "    for i in range(arr.size):\n",
    "        new_arr.append(generate_token_sent(arr.iloc[i]))\n",
    "    new_arr = np.array(new_arr)\n",
    "    return new_arr\n",
    "\n",
    "def generate_token_sent_col1(arr):\n",
    "    new_arr = []\n",
    "    for i in range(arr.size):\n",
    "        new_arr.append(generate_token_sent(arr[i]))\n",
    "    new_arr = np.array(new_arr)\n",
    "    return new_arr\n",
    "\n",
    "\n",
    "for i in range(1):\n",
    "    train_data = pd.read_csv('test_data.csv',encoding='utf-8')\n",
    "    test_data = pd.read_csv('train_data.csv',encoding='utf-8')\n",
    "    #train_data, test_data = train_test_split(oll, test_size=0.33)\n",
    "    train_data.columns = ['i','payload','type']\n",
    "    train_data.drop(['i'], axis=1,inplace=True)\n",
    "    train_data.dropna(inplace=True)\n",
    "    test_data.columns = ['i','payload','type']\n",
    "    test_data.drop(['i'], axis=1,inplace=True)\n",
    "    test_data.dropna(inplace=True)\n",
    "    train_data.loc[train_data['type'] == 'norm', 'class'] = 0\n",
    "    train_data.loc[train_data['type'] == 'xss', 'class'] = 1\n",
    "    test_data.loc[test_data['type'] == 'norm', 'class'] = 0\n",
    "    test_data.loc[test_data['type'] == 'xss', 'class'] = 1\n",
    "    \n",
    "    trainpayload = train_data.payload\n",
    "    trainresult = train_data['class']\n",
    "\n",
    "    testpayload = test_data.payload\n",
    "    testresult = test_data['class']\n",
    "    \n",
    "    trainpayload_new = generate_token_sent_col(trainpayload)\n",
    "    testpayload_new = generate_token_sent_col(testpayload)\n",
    "    print(trainpayload_new.shape)\n",
    "    count_vect = CountVectorizer()\n",
    "    count_vect.fit(trainpayload_new)\n",
    "    dump(count_vect, 'vectroizerx.pkl')\n",
    "    train_bow = count_vect.transform(trainpayload_new)\n",
    "    test_bow = count_vect.transform(testpayload_new)\n",
    "    \n",
    "    clf = SVC(gamma='auto',kernel='linear',probability=True)\n",
    "    clf.fit(train_bow, trainresult)\n",
    "    dump(clf, 'svcx.joblib') \n",
    "    y_pred = clf.predict_proba(test_bow)\n",
    "#     print('Accuracy ~')\n",
    "#     print(accuracy_score(testresult, y_pred))\n",
    "#     ele = '<script\\x3Etype=\\\"text/javascript\\\">javascript:alert(1);</script>'\n",
    "#     testpayload = np.array([ele])\n",
    "#     testpayload_new = generate_token_sent_col1(testpayload)\n",
    "#     test_bow = count_vect.transform(testpayload_new)\n",
    "#     y_pred = clf.predict_proba(test_bow)\n",
    "#     print(y_pred)"
   ]
  },
  {
   "cell_type": "code",
   "execution_count": 9,
   "metadata": {},
   "outputs": [
    {
     "name": "stdout",
     "output_type": "stream",
     "text": [
      "  (0, 1243)\t1\n",
      "  (1, 4352)\t1\n",
      "  (1, 6661)\t1\n",
      "  (2, 484)\t1\n",
      "  (2, 4187)\t1\n",
      "  (2, 4730)\t1\n",
      "  (3, 704)\t1\n",
      "  (4, 624)\t1\n",
      "  (5, 3469)\t1\n",
      "  (5, 8494)\t1\n",
      "  (6, 1759)\t1\n",
      "  (6, 3719)\t1\n",
      "  (6, 7155)\t1\n",
      "  (7, 6056)\t1\n",
      "  (8, 7089)\t1\n",
      "  (8, 7660)\t1\n",
      "  (9, 480)\t1\n",
      "  (9, 1685)\t1\n",
      "  (9, 2527)\t1\n",
      "  (10, 4468)\t1\n",
      "  (11, 4596)\t1\n",
      "  (12, 728)\t1\n",
      "  (13, 823)\t1\n",
      "  (14, 5190)\t1\n",
      "  (15, 4367)\t1\n",
      "  :\t:\n",
      "  (9372, 2742)\t1\n",
      "  (9372, 5497)\t2\n",
      "  (9372, 7768)\t2\n",
      "  (9372, 7770)\t2\n",
      "  (9373, 291)\t1\n",
      "  (9373, 323)\t1\n",
      "  (9373, 349)\t1\n",
      "  (9373, 353)\t1\n",
      "  (9373, 1237)\t1\n",
      "  (9373, 1256)\t1\n",
      "  (9373, 1486)\t1\n",
      "  (9373, 2473)\t1\n",
      "  (9373, 4863)\t1\n",
      "  (9373, 7770)\t2\n",
      "  (9373, 8029)\t1\n",
      "  (9374, 2204)\t10\n",
      "  (9374, 2317)\t5\n",
      "  (9374, 2742)\t5\n",
      "  (9374, 4863)\t5\n",
      "  (9374, 7770)\t3\n",
      "  (9374, 8029)\t5\n",
      "  (9375, 2742)\t1\n",
      "  (9375, 5580)\t1\n",
      "  (9375, 6182)\t1\n",
      "  (9375, 6808)\t1\n"
     ]
    }
   ],
   "source": [
    "print(train_bow)"
   ]
  },
  {
   "cell_type": "code",
   "execution_count": 2,
   "metadata": {},
   "outputs": [
    {
     "name": "stdout",
     "output_type": "stream",
     "text": [
      "[[3.00000090e-14 1.00000000e+00]\n",
      " [2.87195777e-08 9.99999971e-01]\n",
      " [1.93096297e-02 9.80690370e-01]\n",
      " ...\n",
      " [9.97552586e-01 2.44741366e-03]\n",
      " [9.97584608e-01 2.41539153e-03]\n",
      " [9.97552586e-01 2.44741366e-03]]\n"
     ]
    }
   ],
   "source": [
    "print(y_pred)"
   ]
  },
  {
   "cell_type": "code",
   "execution_count": 14,
   "metadata": {},
   "outputs": [
    {
     "name": "stdout",
     "output_type": "stream",
     "text": [
      "23818\n",
      "23808\n",
      "23794\n",
      "23778\n",
      "23708\n",
      "23642\n",
      "23549\n",
      "23453\n",
      "22828\n",
      "21469\n",
      "21285\n",
      "21188\n",
      "21027\n",
      "20724\n",
      "20491\n",
      "20248\n",
      "20011\n",
      "19839\n",
      "19452\n",
      "18823\n",
      "15282\n",
      "0\n"
     ]
    }
   ],
   "source": [
    "print(np.sum(y_pred[:, 1] > 0.80))\n",
    "print(np.sum(y_pred[:, 1] > 0.81))\n",
    "print(np.sum(y_pred[:, 1] > 0.82))\n",
    "print(np.sum(y_pred[:, 1] > 0.83))\n",
    "print(np.sum(y_pred[:, 1] > 0.84))\n",
    "print(np.sum(y_pred[:, 1] > 0.85))\n",
    "print(np.sum(y_pred[:, 1] > 0.86))\n",
    "print(np.sum(y_pred[:, 1] > 0.87))\n",
    "print(np.sum(y_pred[:, 1] > 0.88))\n",
    "print(np.sum(y_pred[:, 1] > 0.89))\n",
    "print(np.sum(y_pred[:, 1] > 0.90))\n",
    "print(np.sum(y_pred[:, 1] > 0.91))\n",
    "print(np.sum(y_pred[:, 1] > 0.92))\n",
    "print(np.sum(y_pred[:, 1] > 0.93))\n",
    "print(np.sum(y_pred[:, 1] > 0.94))\n",
    "print(np.sum(y_pred[:, 1] > 0.95))\n",
    "print(np.sum(y_pred[:, 1] > 0.96))\n",
    "print(np.sum(y_pred[:, 1] > 0.97))\n",
    "print(np.sum(y_pred[:, 1] > 0.98))\n",
    "print(np.sum(y_pred[:, 1] > 0.99))\n",
    "print(np.sum(y_pred[:, 1] > 0.99999999))\n",
    "print(np.sum(y_pred[:, 1] >= 1))"
   ]
  },
  {
   "cell_type": "code",
   "execution_count": 4,
   "metadata": {},
   "outputs": [
    {
     "data": {
      "text/plain": [
       "33425"
      ]
     },
     "execution_count": 4,
     "metadata": {},
     "output_type": "execute_result"
    }
   ],
   "source": [
    "len(test_data[test_data['type'] == 'xss'])"
   ]
  },
  {
   "cell_type": "code",
   "execution_count": null,
   "metadata": {},
   "outputs": [],
   "source": []
  }
 ],
 "metadata": {
  "kernelspec": {
   "display_name": "Python 3",
   "language": "python",
   "name": "python3"
  },
  "language_info": {
   "codemirror_mode": {
    "name": "ipython",
    "version": 3
   },
   "file_extension": ".py",
   "mimetype": "text/x-python",
   "name": "python",
   "nbconvert_exporter": "python",
   "pygments_lexer": "ipython3",
   "version": "3.7.0"
  }
 },
 "nbformat": 4,
 "nbformat_minor": 2
}
