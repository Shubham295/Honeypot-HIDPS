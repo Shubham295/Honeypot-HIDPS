{
 "cells": [
  {
   "cell_type": "code",
   "execution_count": 1,
   "metadata": {},
   "outputs": [],
   "source": [
    "import numpy as np\n",
    "import pandas as pd\n",
    "import re\n",
    "from sklearn.svm import SVC\n",
    "from sklearn.model_selection import train_test_split\n",
    "from sklearn.feature_extraction.text import CountVectorizer\n",
    "from sklearn.metrics import accuracy_score\n",
    "from joblib import dump, load\n",
    "import urllib\n",
    "import os\n",
    "\n",
    "\n",
    "def generate_token_sent(s):\n",
    "    try:\n",
    "        s = s.lower()\n",
    "    except Exception as ex:\n",
    "        s = str(each).lower()\n",
    "    s = re.sub(r'[^a-zA-Z0-9\\s]', ' ', s)\n",
    "    tokens = [token for token in s.split(\" \") if token != \"\"]\n",
    "    sent = \"\"\n",
    "    for i in range(len(tokens)):\n",
    "        if i == 0:\n",
    "            sent = sent + tokens[0]\n",
    "        else:\n",
    "            sent = sent + \" \" + tokens[i]\n",
    "    return sent\n",
    "    \n",
    "def generate_token_sent_col(arr):\n",
    "    new_arr = []\n",
    "    for i in range(arr.size):\n",
    "        new_arr.append(generate_token_sent(arr.iloc[i]))\n",
    "    new_arr = np.array(new_arr)\n",
    "    return new_arr\n",
    "\n",
    "def generate_token_sent_col1(arr):\n",
    "    new_arr = []\n",
    "    for i in range(arr.size):\n",
    "        new_arr.append(generate_token_sent(arr[i]))\n",
    "    new_arr = np.array(new_arr)\n",
    "    return new_arr\n",
    "\n",
    "count_vect = load('vectroizer.pkl')\n",
    "clf = load('svc.joblib')"
   ]
  },
  {
   "cell_type": "code",
   "execution_count": 2,
   "metadata": {},
   "outputs": [],
   "source": [
    "def decode_back(s):\n",
    "    try:\n",
    "        s = urllib.parse.unquote(s)\n",
    "        s = str.encode(s)\n",
    "    except:\n",
    "        return s\n",
    "    return s.decode('utf8')\n",
    "\n",
    "def predict(st):\n",
    "    testpayload = np.array([decode_back(st)])\n",
    "    testpayload_new = generate_token_sent_col1(testpayload)\n",
    "    test_bow = count_vect.transform(testpayload_new)\n",
    "    y_pred = clf.predict_proba(test_bow)\n",
    "    print('Prediction for', st,' is ', y_pred[0][1])\n",
    "    return y_pred[0][1]\n",
    "    \n",
    "def route(data):\n",
    "    if isinstance(data, list):\n",
    "        for each in data:\n",
    "            try:\n",
    "                s = each.lower()\n",
    "            except Exception as ex:\n",
    "                s = str(each).lower()\n",
    "            if 'name' in s: \n",
    "                pload = s.split()[6][16:]\n",
    "                ip=s.split()[0]\n",
    "                score = predict(pload)\n",
    "                if score >= 0.5:\n",
    "                    os.system('iptables -t nat -A PREROUTING -p tcp --dport 80 -j DNAT --to-destination 192.168.1.114:80')\n",
    "                    os.system('iptables -t nat -A POSTROUTING -p tcp -d 192.168.1.114 --dport 80 -j SNAT --to-source 192.168.1.113')\n",
    "                    print(ip)\n",
    "                else:\n",
    "                    print('not XSS')\n",
    "                #if score >= 0.8:\n",
    "                    #os.system('cat /var/www/html/adm.php > /var/www/html/admin.php')\n",
    "                #else:\n",
    "                    #os.system('cat /var/www/html/admi.php > /var/www/html/admin.php')\n",
    "    else:\n",
    "        print('Route Function: Data type error')"
   ]
  },
  {
   "cell_type": "code",
   "execution_count": 3,
   "metadata": {},
   "outputs": [
    {
     "name": "stdout",
     "output_type": "stream",
     "text": [
      "Prediction for rock  is  0.010440976693799653\n",
      "not XSS\n",
      "Prediction for %3cscript%3ealert(%22hello%22)%3c/script%3e  is  0.9999999999999699\n",
      "192.168.1.103\n"
     ]
    },
    {
     "ename": "KeyboardInterrupt",
     "evalue": "",
     "output_type": "error",
     "traceback": [
      "\u001b[0;31m---------------------------------------------------------------------------\u001b[0m",
      "\u001b[0;31mKeyboardInterrupt\u001b[0m                         Traceback (most recent call last)",
      "\u001b[0;32m<ipython-input-3-76f6597f7fd0>\u001b[0m in \u001b[0;36m<module>\u001b[0;34m()\u001b[0m\n\u001b[1;32m      2\u001b[0m \u001b[0;32mwhile\u001b[0m\u001b[0;34m(\u001b[0m\u001b[0;32mTrue\u001b[0m\u001b[0;34m)\u001b[0m\u001b[0;34m:\u001b[0m\u001b[0;34m\u001b[0m\u001b[0m\n\u001b[1;32m      3\u001b[0m     \u001b[0;32mwith\u001b[0m \u001b[0mopen\u001b[0m\u001b[0;34m(\u001b[0m\u001b[0mfname\u001b[0m\u001b[0;34m)\u001b[0m \u001b[0;32mas\u001b[0m \u001b[0mf\u001b[0m\u001b[0;34m:\u001b[0m\u001b[0;34m\u001b[0m\u001b[0m\n\u001b[0;32m----> 4\u001b[0;31m         \u001b[0mcontent\u001b[0m \u001b[0;34m=\u001b[0m \u001b[0mf\u001b[0m\u001b[0;34m.\u001b[0m\u001b[0mreadlines\u001b[0m\u001b[0;34m(\u001b[0m\u001b[0;34m)\u001b[0m\u001b[0;34m\u001b[0m\u001b[0m\n\u001b[0m\u001b[1;32m      5\u001b[0m     \u001b[0mcontent\u001b[0m \u001b[0;34m=\u001b[0m \u001b[0;34m[\u001b[0m\u001b[0mx\u001b[0m\u001b[0;34m.\u001b[0m\u001b[0mstrip\u001b[0m\u001b[0;34m(\u001b[0m\u001b[0;34m)\u001b[0m \u001b[0;32mfor\u001b[0m \u001b[0mx\u001b[0m \u001b[0;32min\u001b[0m \u001b[0mcontent\u001b[0m\u001b[0;34m]\u001b[0m\u001b[0;34m\u001b[0m\u001b[0m\n\u001b[1;32m      6\u001b[0m     \u001b[0;32mif\u001b[0m \u001b[0mlen\u001b[0m\u001b[0;34m(\u001b[0m\u001b[0mcontent\u001b[0m\u001b[0;34m)\u001b[0m \u001b[0;34m>\u001b[0m \u001b[0;36m0\u001b[0m\u001b[0;34m:\u001b[0m\u001b[0;34m\u001b[0m\u001b[0m\n",
      "\u001b[0;32m~/anaconda3/lib/python3.7/codecs.py\u001b[0m in \u001b[0;36mdecode\u001b[0;34m(self, input, final)\u001b[0m\n\u001b[1;32m    317\u001b[0m         \u001b[0;32mraise\u001b[0m \u001b[0mNotImplementedError\u001b[0m\u001b[0;34m\u001b[0m\u001b[0m\n\u001b[1;32m    318\u001b[0m \u001b[0;34m\u001b[0m\u001b[0m\n\u001b[0;32m--> 319\u001b[0;31m     \u001b[0;32mdef\u001b[0m \u001b[0mdecode\u001b[0m\u001b[0;34m(\u001b[0m\u001b[0mself\u001b[0m\u001b[0;34m,\u001b[0m \u001b[0minput\u001b[0m\u001b[0;34m,\u001b[0m \u001b[0mfinal\u001b[0m\u001b[0;34m=\u001b[0m\u001b[0;32mFalse\u001b[0m\u001b[0;34m)\u001b[0m\u001b[0;34m:\u001b[0m\u001b[0;34m\u001b[0m\u001b[0m\n\u001b[0m\u001b[1;32m    320\u001b[0m         \u001b[0;31m# decode input (taking the buffer into account)\u001b[0m\u001b[0;34m\u001b[0m\u001b[0;34m\u001b[0m\u001b[0m\n\u001b[1;32m    321\u001b[0m         \u001b[0mdata\u001b[0m \u001b[0;34m=\u001b[0m \u001b[0mself\u001b[0m\u001b[0;34m.\u001b[0m\u001b[0mbuffer\u001b[0m \u001b[0;34m+\u001b[0m \u001b[0minput\u001b[0m\u001b[0;34m\u001b[0m\u001b[0m\n",
      "\u001b[0;31mKeyboardInterrupt\u001b[0m: "
     ]
    }
   ],
   "source": [
    "fname = '/var/log/apache2/access.log'\n",
    "while(True):\n",
    "    with open(fname) as f:\n",
    "        content = f.readlines()\n",
    "    content = [x.strip() for x in content]\n",
    "    if len(content) > 0:\n",
    "        os.system('cat /var/log/apache2/access_reset.log > /var/log/apache2/access.log')\n",
    "        route(content)"
   ]
  },
  {
   "cell_type": "code",
   "execution_count": null,
   "metadata": {},
   "outputs": [],
   "source": []
  }
 ],
 "metadata": {
  "kernelspec": {
   "display_name": "Python 3",
   "language": "python",
   "name": "python3"
  },
  "language_info": {
   "codemirror_mode": {
    "name": "ipython",
    "version": 3
   },
   "file_extension": ".py",
   "mimetype": "text/x-python",
   "name": "python",
   "nbconvert_exporter": "python",
   "pygments_lexer": "ipython3",
   "version": "3.7.0"
  }
 },
 "nbformat": 4,
 "nbformat_minor": 2
}
